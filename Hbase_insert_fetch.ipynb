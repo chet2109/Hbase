{
 "cells": [
  {
   "cell_type": "code",
   "execution_count": null,
   "metadata": {
    "collapsed": true
   },
   "outputs": [],
   "source": [
    "import happybase\n",
    "import pandas as pd\n",
    "import numpy\n",
    "import json\n",
    "from io import StringIO"
   ]
  },
  {
   "cell_type": "code",
   "execution_count": null,
   "metadata": {
    "collapsed": false
   },
   "outputs": [],
   "source": [
    "class Hbase:\n",
    "    def __init__(self,host,table_name):\n",
    "        \"\"\" As a part object creation connection will be established with desired host and table name\"\"\"\n",
    "        self.conn = happybase.Connection(host = host,table_prefix = \"default\",table_prefix_separator = \":\",autoconnect=True)\n",
    "        self.table = self.conn.table(table_name)\n",
    "        \n",
    "    \n",
    "    def insert_row(self, row):\n",
    "        \"\"\" Insert a row into HBase. rows will besent to the database individually.Rows have the following schema:\n",
    "        [ id\ttyp\ttime\tintent\tentity\tcity\tstate\tcountry\trestname\tpaytype\tyear\tmonth\tdate]\n",
    "        \"\"\"\n",
    "        table.put(row[0], { \"data:typ\": row[1], \"data:time\": row[2], \"data:intent\": row[3],\n",
    "        \"data:entity\": row[4], \"data:city\": row[5], \"data:state\": row[6],\"data:country\": row[7],\"data:restname\": row[8], \n",
    "                  \"data:paytype\": row[9],\"data:year\": row[10],\"data:month\": row[11],\"data:date\": row[12]})\n",
    "    \n",
    "    def default(self,o):\n",
    "        \"\"\" Memeber method to convert numpy int to standard int as jsonify fails for numpy int\"\"\"\n",
    "        if isinstance(o, numpy.int64): \n",
    "            return int(o)  \n",
    "        raise TypeError\n",
    "    \n",
    "    def process_data(self,rows):\n",
    "        \"\"\" Preprocessing required for converting to nested json\"\"\"\n",
    "        df = pd.DataFrame()\n",
    "        for row in rows:\n",
    "            df_row = {key.decode('utf8').split(':')[1]: value.decode('utf8') for key, value in row[1].items()}\n",
    "            df = df.append(df_row, ignore_index=True)\n",
    "        df1 = df.groupby(['typ','intent','month']).size()\n",
    "        df3 = df1.to_csv()\n",
    "        TESTDATA = StringIO(df3)\n",
    "        df4 = pd.read_csv(TESTDATA, sep=\",\",header=None)\n",
    "        df4.rename(columns={0: 'typ', 1: 'intent',2: 'month',3: 'count'},inplace=True)\n",
    "        return(df4)\n",
    "        \n",
    "    \n",
    "    def fetch_row(self, coloumn_family):\n",
    "        \"\"\"Fetch the entire table into and then will be processed in process_data method as data frame\"\"\"\n",
    "        rows = self.table.scan(columns=[coloumn_family])\n",
    "        return(rows)\n",
    "    \n",
    "    def retro_dictify(self,frame):\n",
    "        \"\"\"Converts a data frame to nested dictionary in the order of data frame columns\"\"\"\n",
    "        d = {}\n",
    "        for row in frame.values:\n",
    "            here = d\n",
    "            for elem in row[:-2]:\n",
    "                if elem not in here:\n",
    "                    here[elem] = {}\n",
    "                here = here[elem]\n",
    "            here[row[-2]] = row[-1]\n",
    "        return d"
   ]
  },
  {
   "cell_type": "code",
   "execution_count": null,
   "metadata": {
    "collapsed": false
   },
   "outputs": [],
   "source": [
    "\"\"\" This is an example of how to generate an nested json object from the above class object\n",
    "   hbase = Hbase(\"0.0.0.0\",\"REST\")\n",
    "   d7 = hbase.fetch_row(b'data')\n",
    "   d11 = hbase.process_data(d7)\n",
    "   j1= hbase.retro_dictify(d11)\n",
    "   x6=json.dumps(j1, default= hbase.default)\n",
    "\"\"\""
   ]
  },
  {
   "cell_type": "code",
   "execution_count": null,
   "metadata": {
    "collapsed": true
   },
   "outputs": [],
   "source": []
  }
 ],
 "metadata": {
  "kernelspec": {
   "display_name": "Python 3",
   "language": "python",
   "name": "python3"
  },
  "language_info": {
   "codemirror_mode": {
    "name": "ipython",
    "version": 3
   },
   "file_extension": ".py",
   "mimetype": "text/x-python",
   "name": "python",
   "nbconvert_exporter": "python",
   "pygments_lexer": "ipython3",
   "version": "3.6.0"
  }
 },
 "nbformat": 4,
 "nbformat_minor": 2
}
